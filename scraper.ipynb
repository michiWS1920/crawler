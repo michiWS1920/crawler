{
  "nbformat": 4,
  "nbformat_minor": 0,
  "metadata": {
    "colab": {
      "name": "scraper.ipynb",
      "provenance": [],
      "authorship_tag": "ABX9TyMmWGT6rXPeEqbHbkXPr8gF",
      "include_colab_link": true
    },
    "kernelspec": {
      "name": "python3",
      "display_name": "Python 3"
    }
  },
  "cells": [
    {
      "cell_type": "markdown",
      "metadata": {
        "id": "view-in-github",
        "colab_type": "text"
      },
      "source": [
        "<a href=\"https://colab.research.google.com/github/michiWS1920/crawler/blob/master/scraper.ipynb\" target=\"_parent\"><img src=\"https://colab.research.google.com/assets/colab-badge.svg\" alt=\"Open In Colab\"/></a>"
      ]
    },
    {
      "cell_type": "code",
      "metadata": {
        "id": "Yv3U-7KUxbAz",
        "colab_type": "code",
        "colab": {}
      },
      "source": [
        "from bs4 import BeautifulSoup\n",
        "import requests"
      ],
      "execution_count": 0,
      "outputs": []
    },
    {
      "cell_type": "code",
      "metadata": {
        "id": "qwWdbRR-yQnP",
        "colab_type": "code",
        "colab": {}
      },
      "source": [
        "source = requests.get(\"https://fantasy.nfl.com/research/players\").text"
      ],
      "execution_count": 0,
      "outputs": []
    },
    {
      "cell_type": "code",
      "metadata": {
        "id": "ug03MqoHyS-u",
        "colab_type": "code",
        "colab": {}
      },
      "source": [
        "soup = BeautifulSoup(source, \"html.parser\")"
      ],
      "execution_count": 0,
      "outputs": []
    },
    {
      "cell_type": "code",
      "metadata": {
        "id": "M3piZta309o4",
        "colab_type": "code",
        "colab": {}
      },
      "source": [
        "div = soup.find(\"div\")\n"
      ],
      "execution_count": 0,
      "outputs": []
    },
    {
      "cell_type": "code",
      "metadata": {
        "id": "ca0YYBEl2w3Z",
        "colab_type": "code",
        "colab": {
          "base_uri": "https://localhost:8080/",
          "height": 35
        },
        "outputId": "56026c60-b61f-4cd8-b31c-2c03bf53dd80"
      },
      "source": [
        "name = div.td.a.text\n",
        "print(name)"
      ],
      "execution_count": 64,
      "outputs": [
        {
          "output_type": "stream",
          "text": [
            "Christian McCaffrey\n"
          ],
          "name": "stdout"
        }
      ]
    },
    {
      "cell_type": "code",
      "metadata": {
        "id": "QgfZHZXL3rVI",
        "colab_type": "code",
        "colab": {
          "base_uri": "https://localhost:8080/",
          "height": 35
        },
        "outputId": "74725dab-5ea0-468e-c218-dd796e3f7a92"
      },
      "source": [
        "summary = div.find(\"td\", class_ =\"stat statTotal numeric sorted last\").text\n",
        "print (summary)"
      ],
      "execution_count": 65,
      "outputs": [
        {
          "output_type": "stream",
          "text": [
            "471.20\n"
          ],
          "name": "stdout"
        }
      ]
    },
    {
      "cell_type": "code",
      "metadata": {
        "id": "CnqSaF6z5P9k",
        "colab_type": "code",
        "colab": {
          "base_uri": "https://localhost:8080/",
          "height": 292
        },
        "outputId": "9105f411-d9f8-4f1d-bfeb-1660ddb1956c"
      },
      "source": [
        "for div in soup.find_all(\"div\"):\n",
        "  name = div.td.a.text\n",
        "  print(name)\n",
        "  summary = div.find(\"td\", class_ =\"stat statTotal numeric sorted last\").text\n",
        "  print (summary)\n",
        "  print()"
      ],
      "execution_count": 66,
      "outputs": [
        {
          "output_type": "stream",
          "text": [
            "Christian McCaffrey\n",
            "471.20\n",
            "\n"
          ],
          "name": "stdout"
        },
        {
          "output_type": "error",
          "ename": "AttributeError",
          "evalue": "ignored",
          "traceback": [
            "\u001b[0;31m---------------------------------------------------------------------------\u001b[0m",
            "\u001b[0;31mAttributeError\u001b[0m                            Traceback (most recent call last)",
            "\u001b[0;32m<ipython-input-66-f871b4bc804f>\u001b[0m in \u001b[0;36m<module>\u001b[0;34m()\u001b[0m\n\u001b[1;32m      1\u001b[0m \u001b[0;32mfor\u001b[0m \u001b[0mdiv\u001b[0m \u001b[0;32min\u001b[0m \u001b[0msoup\u001b[0m\u001b[0;34m.\u001b[0m\u001b[0mfind_all\u001b[0m\u001b[0;34m(\u001b[0m\u001b[0;34m\"div\"\u001b[0m\u001b[0;34m)\u001b[0m\u001b[0;34m:\u001b[0m\u001b[0;34m\u001b[0m\u001b[0;34m\u001b[0m\u001b[0m\n\u001b[0;32m----> 2\u001b[0;31m   \u001b[0mname\u001b[0m \u001b[0;34m=\u001b[0m \u001b[0mdiv\u001b[0m\u001b[0;34m.\u001b[0m\u001b[0mtd\u001b[0m\u001b[0;34m.\u001b[0m\u001b[0ma\u001b[0m\u001b[0;34m.\u001b[0m\u001b[0mtext\u001b[0m\u001b[0;34m\u001b[0m\u001b[0;34m\u001b[0m\u001b[0m\n\u001b[0m\u001b[1;32m      3\u001b[0m   \u001b[0mprint\u001b[0m\u001b[0;34m(\u001b[0m\u001b[0mname\u001b[0m\u001b[0;34m)\u001b[0m\u001b[0;34m\u001b[0m\u001b[0;34m\u001b[0m\u001b[0m\n\u001b[1;32m      4\u001b[0m   \u001b[0msummary\u001b[0m \u001b[0;34m=\u001b[0m \u001b[0mdiv\u001b[0m\u001b[0;34m.\u001b[0m\u001b[0mfind\u001b[0m\u001b[0;34m(\u001b[0m\u001b[0;34m\"td\"\u001b[0m\u001b[0;34m,\u001b[0m \u001b[0mclass_\u001b[0m \u001b[0;34m=\u001b[0m\u001b[0;34m\"stat statTotal numeric sorted last\"\u001b[0m\u001b[0;34m)\u001b[0m\u001b[0;34m.\u001b[0m\u001b[0mtext\u001b[0m\u001b[0;34m\u001b[0m\u001b[0;34m\u001b[0m\u001b[0m\n\u001b[1;32m      5\u001b[0m   \u001b[0mprint\u001b[0m \u001b[0;34m(\u001b[0m\u001b[0msummary\u001b[0m\u001b[0;34m)\u001b[0m\u001b[0;34m\u001b[0m\u001b[0;34m\u001b[0m\u001b[0m\n",
            "\u001b[0;31mAttributeError\u001b[0m: 'NoneType' object has no attribute 'a'"
          ]
        }
      ]
    },
    {
      "cell_type": "code",
      "metadata": {
        "id": "YEHPXlll7JJn",
        "colab_type": "code",
        "colab": {
          "base_uri": "https://localhost:8080/",
          "height": 55
        },
        "outputId": "64a025e9-88cf-4bd4-da2f-8df2afdcdf5f"
      },
      "source": [
        "body = soup.find(\"tbody\")\n",
        "body.text\n"
      ],
      "execution_count": 67,
      "outputs": [
        {
          "output_type": "execute_result",
          "data": {
            "text/plain": [
              "'Christian McCaffrey RB - CAR View VideosNO---13871511610054--1-471.20Lamar Jackson QB - BAL PIT312736612067------2415.68Michael Thomas WR - NO @CAR----9-14917259----374.60Dak Prescott QB - DAL View News WAS490230112773-----12337.78Russell Wilson QB - SEA SF41103153423-----12328.60Deshaun Watson QB - HOU TEN385226124137161--13320.98Aaron Jones RB - GB @DET---108416494743---2314.80Ezekiel Elliott RB - DAL WAS---135712544202---2311.70Austin Ekeler RB - LAC @KC---5573929938---2309.00Jameis Winston QB - TB ATL510933302501-----45305.36Derrick Henry RB - TEN View Videos@HOU---154016182062---3294.60Dalvin Cook RB - MIN CHI---11351353519----2292.40Josh Allen QB - BUF NYJ30892095109-----34288.56Patrick Mahomes QB - KC LAC40312652182-----12287.04Kyler Murray QB - ARI @LA372220125444-----32285.28Aaron Rodgers QB - GB @DET40022641831-----34278.38Chris Godwin WR - TB ATL---8-8613339--1-276.10Carson Wentz QB - PHI @NYG40392772431-----27275.86Julio Jones WR - ATL @TB----3-9913946----274.10Cooper Kupp WR - LA View VideosARI---4-94116110----270.50DeAndre Hopkins WR - HOU View VideosTEN61118-10411657--1-268.54Matt Ryan QB - ATL @TB446626141471-----15267.34Tom Brady QB - NE MIA4057248343-----11263.68Keenan Allen WR - LAC @KC---16-10411996----261.50Leonard Fournette RB - JAX IND---1152376522----1259.40'"
            ]
          },
          "metadata": {
            "tags": []
          },
          "execution_count": 67
        }
      ]
    },
    {
      "cell_type": "code",
      "metadata": {
        "id": "C_fYKU1e7-jz",
        "colab_type": "code",
        "colab": {
          "base_uri": "https://localhost:8080/",
          "height": 35
        },
        "outputId": "f9b22f19-c254-471e-b13f-16d4842d5e35"
      },
      "source": [
        "name = body.td.a.text\n",
        "print(name)"
      ],
      "execution_count": 68,
      "outputs": [
        {
          "output_type": "stream",
          "text": [
            "Christian McCaffrey\n"
          ],
          "name": "stdout"
        }
      ]
    },
    {
      "cell_type": "code",
      "metadata": {
        "id": "3RHK3dxV8hiu",
        "colab_type": "code",
        "colab": {
          "base_uri": "https://localhost:8080/",
          "height": 35
        },
        "outputId": "19cc5e4b-345a-4be3-d965-8916ddd031b3"
      },
      "source": [
        "summary = body.find(\"td\", class_ =\"stat statTotal numeric sorted last\").text\n",
        "print(summary)\n"
      ],
      "execution_count": 69,
      "outputs": [
        {
          "output_type": "stream",
          "text": [
            "471.20\n"
          ],
          "name": "stdout"
        }
      ]
    },
    {
      "cell_type": "code",
      "metadata": {
        "id": "jiksxnXg8t14",
        "colab_type": "code",
        "colab": {
          "base_uri": "https://localhost:8080/",
          "height": 52
        },
        "outputId": "644bdc15-fcd5-48f8-b834-0a41873eb61e"
      },
      "source": [
        "name = body.td.a.text\n",
        "print(name)\n",
        "\n",
        "fpoints = body.find(\"td\", class_ =\"stat statTotal numeric sorted last\").text\n",
        "print(fpoints)\n",
        "\n"
      ],
      "execution_count": 70,
      "outputs": [
        {
          "output_type": "stream",
          "text": [
            "Christian McCaffrey\n",
            "471.20\n"
          ],
          "name": "stdout"
        }
      ]
    },
    {
      "cell_type": "code",
      "metadata": {
        "id": "rbHP_xB_9D2I",
        "colab_type": "code",
        "colab": {
          "base_uri": "https://localhost:8080/",
          "height": 35
        },
        "outputId": "ea1b49a5-2c6c-477e-9bc8-0a38089e76b7"
      },
      "source": [
        "tr = body.find(\"tr\")\n",
        "tr.text\n"
      ],
      "execution_count": 71,
      "outputs": [
        {
          "output_type": "execute_result",
          "data": {
            "text/plain": [
              "'Christian McCaffrey RB - CAR View VideosNO---13871511610054--1-471.20'"
            ]
          },
          "metadata": {
            "tags": []
          },
          "execution_count": 71
        }
      ]
    },
    {
      "cell_type": "code",
      "metadata": {
        "id": "70abD5Fd97F-",
        "colab_type": "code",
        "colab": {}
      },
      "source": [
        "for body in soup.find_all(\"tbody\"):\n",
        "  tr = body.find(\"tr\")\n",
        "  tr.text\n",
        "  "
      ],
      "execution_count": 0,
      "outputs": []
    },
    {
      "cell_type": "code",
      "metadata": {
        "id": "sQUuOAZ3_b0b",
        "colab_type": "code",
        "colab": {
          "base_uri": "https://localhost:8080/",
          "height": 55
        },
        "outputId": "3528bf54-04c7-47d8-80b6-1e1c43d87e29"
      },
      "source": [
        "fpoints = body.find_all(\"td\", class_ =\"stat statTotal numeric sorted last\")\n",
        "print(fpoints)"
      ],
      "execution_count": 74,
      "outputs": [
        {
          "output_type": "stream",
          "text": [
            "[<td class=\"stat statTotal numeric sorted last\"><span class=\"playerSeasonTotal playerSeason-2019 playerId-2557997\">471.20</span></td>, <td class=\"stat statTotal numeric sorted last\"><span class=\"playerSeasonTotal playerSeason-2019 playerId-2560757\">415.68</span></td>, <td class=\"stat statTotal numeric sorted last\"><span class=\"playerSeasonTotal playerSeason-2019 playerId-2556370\">374.60</span></td>, <td class=\"stat statTotal numeric sorted last\"><span class=\"playerSeasonTotal playerSeason-2019 playerId-2555260\">337.78</span></td>, <td class=\"stat statTotal numeric sorted last\"><span class=\"playerSeasonTotal playerSeason-2019 playerId-2532975\">328.60</span></td>, <td class=\"stat statTotal numeric sorted last\"><span class=\"playerSeasonTotal playerSeason-2019 playerId-2558063\">320.98</span></td>, <td class=\"stat statTotal numeric sorted last\"><span class=\"playerSeasonTotal playerSeason-2019 playerId-2558116\">314.80</span></td>, <td class=\"stat statTotal numeric sorted last\"><span class=\"playerSeasonTotal playerSeason-2019 playerId-2555224\">311.70</span></td>, <td class=\"stat statTotal numeric sorted last\"><span class=\"playerSeasonTotal playerSeason-2019 playerId-2559169\">309.00</span></td>, <td class=\"stat statTotal numeric sorted last\"><span class=\"playerSeasonTotal playerSeason-2019 playerId-2552033\">305.36</span></td>, <td class=\"stat statTotal numeric sorted last\"><span class=\"playerSeasonTotal playerSeason-2019 playerId-2556075\">294.60</span></td>, <td class=\"stat statTotal numeric sorted last\"><span class=\"playerSeasonTotal playerSeason-2019 playerId-2557991\">292.40</span></td>, <td class=\"stat statTotal numeric sorted last\"><span class=\"playerSeasonTotal playerSeason-2019 playerId-2560955\">288.56</span></td>, <td class=\"stat statTotal numeric sorted last\"><span class=\"playerSeasonTotal playerSeason-2019 playerId-2558125\">287.04</span></td>, <td class=\"stat statTotal numeric sorted last\"><span class=\"playerSeasonTotal playerSeason-2019 playerId-2562382\">285.28</span></td>, <td class=\"stat statTotal numeric sorted last\"><span class=\"playerSeasonTotal playerSeason-2019 playerId-2506363\">278.38</span></td>, <td class=\"stat statTotal numeric sorted last\"><span class=\"playerSeasonTotal playerSeason-2019 playerId-2558105\">276.10</span></td>, <td class=\"stat statTotal numeric sorted last\"><span class=\"playerSeasonTotal playerSeason-2019 playerId-2555259\">275.86</span></td>, <td class=\"stat statTotal numeric sorted last\"><span class=\"playerSeasonTotal playerSeason-2019 playerId-2495454\">274.10</span></td>, <td class=\"stat statTotal numeric sorted last\"><span class=\"playerSeasonTotal playerSeason-2019 playerId-2557898\">270.50</span></td>, <td class=\"stat statTotal numeric sorted last\"><span class=\"playerSeasonTotal playerSeason-2019 playerId-2540165\">268.54</span></td>, <td class=\"stat statTotal numeric sorted last\"><span class=\"playerSeasonTotal playerSeason-2019 playerId-310\">267.34</span></td>, <td class=\"stat statTotal numeric sorted last\"><span class=\"playerSeasonTotal playerSeason-2019 playerId-2504211\">263.68</span></td>, <td class=\"stat statTotal numeric sorted last\"><span class=\"playerSeasonTotal playerSeason-2019 playerId-2540154\">261.50</span></td>, <td class=\"stat statTotal numeric sorted last\"><span class=\"playerSeasonTotal playerSeason-2019 playerId-2557973\">259.40</span></td>]\n"
          ],
          "name": "stdout"
        }
      ]
    },
    {
      "cell_type": "code",
      "metadata": {
        "id": "ZjMlLJWZAanO",
        "colab_type": "code",
        "colab": {}
      },
      "source": [
        ""
      ],
      "execution_count": 0,
      "outputs": []
    },
    {
      "cell_type": "code",
      "metadata": {
        "id": "zDUgKDosAvwi",
        "colab_type": "code",
        "colab": {}
      },
      "source": [
        ""
      ],
      "execution_count": 0,
      "outputs": []
    }
  ]
}